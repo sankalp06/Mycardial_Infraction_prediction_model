{
 "cells": [
  {
   "cell_type": "markdown",
   "metadata": {},
   "source": [
    "\n",
    "* Age\n",
    "* Gender\n",
    "* Myocardial:  Quantity of myocardial infarctions in the anamnesis – Ordinal\n",
    "* Exertional angina: Exertional angina pectoris in the anamnesis\n",
    "* FC: Functional class (FC) of angina pectoris in the last year – Ordinal\n",
    "* Heart Disease: Coronary heart disease (CHD) in recent weeks, days before admission to hospital\n",
    "* Heredity: Heredity on CHD\n",
    "* Hypertension: Presence of an essential hypertension\n",
    "* Symptomatic hypertension\n",
    "* Duration: Duration of arterial hypertension\n",
    "* Arrhythmia: Observing of arrhythmia in the anamnesis\n",
    "* Systolic_emergency: Systolic blood pressure according to Emergency Cardiology Team\n",
    "* Diastolic_emergency: Diastolic blood pressure according to Emergency Cardiology Team\n",
    "* Systolic_intensive_care: Systolic blood pressure according to intensive care unit\n",
    "* Diastolic_intensive_care: Diastolic blood pressure according to intensive care unit\n",
    "* Potassium: Serum potassium content\n",
    "* Sodium: Serum sodium content\n",
    "* AlAT: Serum AlAT content\n",
    "* AsTK: Serum AsTK content\n",
    "* WBC: White Blood Cell Count\n",
    "* ESR: Erythrocyte sedimentation rate\n",
    "* Time: Time elapsed from the beginning of the attack of CHD to the hospital\n",
    "* Outcome: target column"
   ]
  },
  {
   "cell_type": "markdown",
   "metadata": {},
   "source": [
    "# Preprocessing ``train.csv``"
   ]
  },
  {
   "cell_type": "code",
   "execution_count": 5,
   "metadata": {},
   "outputs": [],
   "source": [
    "import pandas as pd\n",
    "import numpy as np\n",
    "import matplotlib.pyplot as plt\n",
    "from sklearn.preprocessing import LabelEncoder\n",
    "from sklearn.metrics import accuracy_score\n",
    "from sklearn.metrics import confusion_matrix\n",
    "\n",
    "df = pd.read_csv('train.csv')\n",
    "\n",
    "\n",
    "df.replace('?', np.nan, inplace = True)\n",
    "\n",
    "df.drop(['Exertional angina','Heredity','Duration','Systolic_emergency','Diastolic_emergency'],axis=1,inplace=True)\n",
    "\n",
    "\n",
    "\n",
    "df['Systolic_intensive_care']=df['Systolic_intensive_care'].astype(float)\n",
    "df['Systolic_intensive_care']=df['Systolic_intensive_care'].fillna(df['Systolic_intensive_care'].mean())\n",
    "\n",
    "df['Diastolic_intensive_care']=df['Diastolic_intensive_care'].astype(float)\n",
    "df['Diastolic_intensive_care']=df['Diastolic_intensive_care'].fillna(df['Diastolic_intensive_care'].mean())\n",
    "\n",
    "df['Potassium']=df['Potassium'].astype(float)\n",
    "df['Potassium']=df['Potassium'].fillna(df['Potassium'].mean())\n",
    "\n",
    "df['AlAT']=df['AlAT'].astype(float)\n",
    "df['AlAT']=df['AlAT'].fillna(df['AlAT'].mean())\n",
    "\n",
    "df['AsAT']=df['AsAT'].astype(float)\n",
    "df['AsAT']=df['AsAT'].fillna(df['AsAT'].mean())\n",
    "\n",
    "df['ESR']=df['ESR'].astype(float)\n",
    "df['ESR']=df['ESR'].fillna(df['ESR'].mean())\n",
    "\n",
    "df['Time']=df['Time'].astype(float)\n",
    "df['Time']=df['Time'].fillna(df['Time'].mean())\n",
    "\n",
    "df['myocardial']=df['myocardial'].astype(float)\n",
    "df['myocardial']=df['myocardial'].fillna(df['myocardial'].mean())\n",
    "\n",
    "df['Age']=df['Age'].astype(float)\n",
    "df['Age']=df['Age'].fillna(df['Age'].mean())\n",
    "\n",
    "df['Sodium']=df['Sodium'].astype(float)\n",
    "df['Sodium']=df['Sodium'].fillna(df['Sodium'].mean())\n",
    "\n",
    "df['WBC']=df['WBC'].astype(float)\n",
    "df['WBC']=df['WBC'].fillna(df['WBC'].mean())\n",
    "\n",
    "df['Hypertension']=df['Hypertension'].fillna(df['Hypertension'].mode()[0])\n",
    "df['FC']=df['FC'].fillna(df['FC'].mode()[0])\n",
    "df['Heart Disease']=df['Heart Disease'].fillna(df['Heart Disease'].mode()[0])\n",
    "df['Symptomatic hypertension']=df['Symptomatic hypertension'].fillna(df['Symptomatic hypertension'].mode()[0])\n",
    "df['Arrhythmia']=df['Arrhythmia'].fillna(df['Arrhythmia'].mode()[0])\n",
    "\n",
    "\n",
    "cols = pd.get_dummies(df['Hypertension'])\n",
    "df[cols.columns] = cols\n",
    "df.drop('Hypertension', axis = 1, inplace = True)\n",
    "\n",
    "cols = pd.get_dummies(df['FC'])\n",
    "df[cols.columns] = cols\n",
    "df.drop('FC', axis = 1, inplace = True)\n",
    "\n",
    "cols = pd.get_dummies(df['Heart Disease'])\n",
    "df[cols.columns] = cols\n",
    "df.drop('Heart Disease', axis = 1, inplace = True)\n",
    "\n",
    "cols = pd.get_dummies(df['Symptomatic hypertension'])\n",
    "df[cols.columns] = cols\n",
    "df.drop('Symptomatic hypertension', axis = 1, inplace = True)\n",
    "\n",
    "cols = pd.get_dummies(df['Arrhythmia'])\n",
    "df[cols.columns] = cols\n",
    "df.drop('Arrhythmia', axis = 1, inplace = True)\n",
    "\n",
    "cols = pd.get_dummies(df['Gender'])\n",
    "df[cols.columns] = cols\n",
    "df.drop('Gender', axis = 1, inplace = True)\n",
    "\n",
    "\n",
    "from sklearn.model_selection import train_test_split\n",
    "from sklearn.preprocessing import MinMaxScaler\n",
    "from sklearn.metrics import precision_score\n",
    "from sklearn.metrics import confusion_matrix\n",
    "\n",
    "y = df['Outcome']\n",
    "X = df.drop('Outcome', axis =1)\n",
    "\n",
    "\n",
    "x_train_orginal, x_test_orginal, y_train, y_test = train_test_split(X, y, random_state = 42, test_size = 0.2)\n",
    "scaler = MinMaxScaler()\n",
    "\n",
    "x_train = scaler.fit_transform(x_train_orginal)\n",
    "x_test = scaler.fit_transform(x_test_orginal)\n",
    "\n",
    "\n"
   ]
  },
  {
   "cell_type": "markdown",
   "metadata": {},
   "source": [
    "# Machine learning models "
   ]
  },
  {
   "cell_type": "code",
   "execution_count": 2,
   "metadata": {},
   "outputs": [
    {
     "name": "stdout",
     "output_type": "stream",
     "text": [
      "0.7803921568627451\n"
     ]
    }
   ],
   "source": [
    "from sklearn.neighbors import KNeighborsClassifier\n",
    "\n",
    "model = KNeighborsClassifier(n_neighbors=17) \n",
    "\n",
    "#TRAINING THE MODEL\n",
    "model.fit(x_train,y_train)\n",
    "\n",
    "#TESTING THE MODEL\n",
    "confidence = model.score(x_test,y_test)\n",
    "\n",
    "\n",
    "print(confidence)\n",
    "\n"
   ]
  },
  {
   "cell_type": "code",
   "execution_count": 3,
   "metadata": {},
   "outputs": [
    {
     "name": "stdout",
     "output_type": "stream",
     "text": [
      "0.7176470588235294\n"
     ]
    }
   ],
   "source": [
    "from sklearn.tree import DecisionTreeClassifier\n",
    "\n",
    "model = DecisionTreeClassifier() \n",
    "\n",
    "#TRAINING THE MODEL\n",
    "model.fit(x_train,y_train)\n",
    "\n",
    "#TESTING THE MODEL\n",
    "confidence = model.score(x_test,y_test)\n",
    "\n",
    "\n",
    "print(confidence)\n",
    "\n"
   ]
  },
  {
   "cell_type": "code",
   "execution_count": 69,
   "metadata": {},
   "outputs": [
    {
     "name": "stdout",
     "output_type": "stream",
     "text": [
      "Best parameters: {'C': 10, 'gamma': 0.1}\n",
      "Best cross-validation score: 0.86\n",
      "Train  score: 0.9960\n",
      "Test score: 0.5764\n"
     ]
    }
   ],
   "source": [
    "from sklearn.model_selection import GridSearchCV\n",
    "from sklearn.svm import SVC\n",
    "param_grid = {'C': [10,100,1000,100000],\n",
    "              'gamma': [0.1, 1, 10, ]}\n",
    "\n",
    "grid_search = GridSearchCV(SVC(kernel = 'rbf'), param_grid, cv=3, return_train_score=True, n_jobs = -1)\n",
    "grid_search.fit(x_train, y_train)\n",
    "print(\"Best parameters: {}\".format(grid_search.best_params_))\n",
    "print(\"Best cross-validation score: {:.2f}\".format(grid_search.best_score_))\n",
    "\n",
    "svc_rbf = SVC(kernel = 'rbf', C = 100, gamma = 1)\n",
    "svc_rbf.fit(x_train, y_train)\n",
    "print('Train  score: %.4f'%precision_score(y_train, svc_rbf.predict(x_train), average = 'macro'))\n",
    "print('Test score: %.4f'%precision_score(y_test, svc_rbf.predict(x_test), average = 'macro'))\n",
    "\n",
    "\n"
   ]
  },
  {
   "cell_type": "code",
   "execution_count": 68,
   "metadata": {},
   "outputs": [
    {
     "name": "stdout",
     "output_type": "stream",
     "text": [
      "Train score: 0.8990\n",
      "Test score: 0.8953\n"
     ]
    }
   ],
   "source": [
    "svc_linear = SVC(kernel = 'linear', C = 10, gamma = 0.1)\n",
    "svc_linear.fit(x_train, y_train)\n",
    "print('Train score: %.4f'%precision_score(y_train, svc_linear.predict(x_train), average = 'macro'))\n",
    "print('Test score: %.4f'%precision_score(y_test, svc_linear.predict(x_test), average = 'macro'))"
   ]
  },
  {
   "cell_type": "code",
   "execution_count": 60,
   "metadata": {},
   "outputs": [
    {
     "name": "stdout",
     "output_type": "stream",
     "text": [
      "Train  score: 0.9269\n",
      "Test score: 0.3922\n",
      "Out-of-bag score: 0.8539\n"
     ]
    },
    {
     "name": "stderr",
     "output_type": "stream",
     "text": [
      "C:\\Users\\ADMIN\\anaconda3\\lib\\site-packages\\sklearn\\metrics\\_classification.py:1221: UndefinedMetricWarning: Precision is ill-defined and being set to 0.0 in labels with no predicted samples. Use `zero_division` parameter to control this behavior.\n",
      "  _warn_prf(average, modifier, msg_start, len(result))\n"
     ]
    }
   ],
   "source": [
    "#Bagging - Logistic \n",
    "from sklearn.ensemble import BaggingClassifier\n",
    "from sklearn.linear_model import LogisticRegression\n",
    "\n",
    "\n",
    "log_clf = LogisticRegression() \n",
    "\n",
    "bag_clf = BaggingClassifier(log_clf, n_estimators=500, max_samples=100, bootstrap=True, random_state=42, oob_score = True)\n",
    "bag_clf.fit(x_train, y_train)\n",
    "y_pred = bag_clf.predict(x_test)\n",
    "\n",
    "print('Train  score: %.4f'%precision_score(y_train, bag_clf.predict(x_train), average = 'macro'))\n",
    "print('Test score: %.4f'%precision_score(y_test, bag_clf.predict(x_test), average = 'macro'))\n",
    "print('Out-of-bag score: %.4f'%bag_clf.oob_score_)"
   ]
  },
  {
   "cell_type": "code",
   "execution_count": 59,
   "metadata": {},
   "outputs": [
    {
     "name": "stdout",
     "output_type": "stream",
     "text": [
      "Train score: 0.9269\n",
      "Test score: 0.8937\n"
     ]
    }
   ],
   "source": [
    "\n",
    "#pasting\n",
    "bag_clf = BaggingClassifier(log_clf, n_estimators=500, max_samples=100, bootstrap=False, random_state=42)\n",
    "bag_clf.fit(x_train, y_train)\n",
    "y_pred = bag_clf.predict(x_test)\n",
    "\n",
    "print('Train score: %.4f'%precision_score(y_train, bag_clf.predict(x_train), average = 'macro'))\n",
    "print('Test score: %.4f'%precision_score(y_test, bag_clf.predict(x_test), average = 'macro'))"
   ]
  },
  {
   "cell_type": "code",
   "execution_count": 58,
   "metadata": {},
   "outputs": [
    {
     "name": "stdout",
     "output_type": "stream",
     "text": [
      "Train score: 1.0000\n",
      "Test score: 0.6081\n"
     ]
    }
   ],
   "source": [
    "from sklearn.ensemble import AdaBoostClassifier\n",
    "dtree_clf = DecisionTreeClassifier(random_state=42,max_depth=10)\n",
    "ab =AdaBoostClassifier(n_estimators=50, base_estimator=dtree_clf,learning_rate=1, random_state=42)\n",
    "ab_model = ab.fit(x_train, y_train)\n",
    "y_pred = ab_model.predict(x_test)\n",
    "\n",
    "print('Train score: %.4f'%precision_score(y_train, ab_model.predict(x_train), average = 'macro'))\n",
    "print('Test score: %.4f'%precision_score(y_test, ab_model.predict(x_test), average = 'macro'))"
   ]
  },
  {
   "cell_type": "code",
   "execution_count": 67,
   "metadata": {},
   "outputs": [
    {
     "name": "stdout",
     "output_type": "stream",
     "text": [
      "Train score: 0.9077\n",
      "Test score: 0.6678\n"
     ]
    }
   ],
   "source": [
    "from sklearn.ensemble import GradientBoostingClassifier\n",
    "clf = GradientBoostingClassifier(max_depth=2, n_estimators=100, learning_rate=0.1, random_state=42)\n",
    "clf.fit(x_train, y_train)\n",
    "print('Train score: %.4f'%precision_score(y_train, clf.predict(x_train), average = 'macro'))\n",
    "print('Test score: %.4f'%precision_score(y_test, clf.predict(x_test), average = 'macro'))"
   ]
  },
  {
   "cell_type": "code",
   "execution_count": 44,
   "metadata": {},
   "outputs": [
    {
     "name": "stdout",
     "output_type": "stream",
     "text": [
      "0.8117647058823529\n"
     ]
    }
   ],
   "source": [
    "from sklearn.linear_model import LogisticRegression\n",
    "\n",
    "\n",
    "model = LogisticRegression() \n",
    "\n",
    "#TRAINING THE MODEL\n",
    "model.fit(x_train,y_train)\n",
    "\n",
    "#TESTING THE MODEL\n",
    "confidence = model.score(x_test,y_test)\n",
    "\n",
    "\n",
    "print(confidence)\n",
    "\n",
    "\n"
   ]
  },
  {
   "cell_type": "markdown",
   "metadata": {},
   "source": [
    "# Preprocessing ``test.csv`` "
   ]
  },
  {
   "cell_type": "code",
   "execution_count": 66,
   "metadata": {},
   "outputs": [],
   "source": [
    "\n",
    "import pandas as pd\n",
    "import numpy as np\n",
    "import matplotlib.pyplot as plt\n",
    "from sklearn.preprocessing import LabelEncoder\n",
    "from sklearn.metrics import accuracy_score\n",
    "from sklearn.metrics import confusion_matrix\n",
    "\n",
    "df = pd.read_csv('test.csv')\n",
    "\n",
    "\n",
    "\n",
    "df.replace('?', np.nan, inplace = True)\n",
    "\n",
    "df.drop(['Exertional angina','Heredity','Duration','Systolic_emergency','Diastolic_emergency'],axis=1,inplace=True)\n",
    "\n",
    "\n",
    "\n",
    "df['Systolic_intensive_care']=df['Systolic_intensive_care'].astype(float)\n",
    "df['Systolic_intensive_care']=df['Systolic_intensive_care'].fillna(df['Systolic_intensive_care'].mean())\n",
    "\n",
    "df['Diastolic_intensive_care']=df['Diastolic_intensive_care'].astype(float)\n",
    "df['Diastolic_intensive_care']=df['Diastolic_intensive_care'].fillna(df['Diastolic_intensive_care'].mean())\n",
    "\n",
    "df['Potassium']=df['Potassium'].astype(float)\n",
    "df['Potassium']=df['Potassium'].fillna(df['Potassium'].mean())\n",
    "\n",
    "df['AlAT']=df['AlAT'].astype(float)\n",
    "df['AlAT']=df['AlAT'].fillna(df['AlAT'].mean())\n",
    "\n",
    "df['AsAT']=df['AsAT'].astype(float)\n",
    "df['AsAT']=df['AsAT'].fillna(df['AsAT'].mean())\n",
    "\n",
    "df['ESR']=df['ESR'].astype(float)\n",
    "df['ESR']=df['ESR'].fillna(df['ESR'].mean())\n",
    "\n",
    "df['Time']=df['Time'].astype(float)\n",
    "df['Time']=df['Time'].fillna(df['Time'].mean())\n",
    "\n",
    "df['myocardial']=df['myocardial'].astype(float)\n",
    "df['myocardial']=df['myocardial'].fillna(df['myocardial'].mean())\n",
    "\n",
    "df['Age']=df['Age'].astype(float)\n",
    "df['Age']=df['Age'].fillna(df['Age'].mean())\n",
    "\n",
    "df['Sodium']=df['Sodium'].astype(float)\n",
    "df['Sodium']=df['Sodium'].fillna(df['Sodium'].mean())\n",
    "\n",
    "df['WBC']=df['WBC'].astype(float)\n",
    "df['WBC']=df['WBC'].fillna(df['WBC'].mean())\n",
    "\n",
    "df['Hypertension']=df['Hypertension'].fillna(df['Hypertension'].mode()[0])\n",
    "df['FC']=df['FC'].fillna(df['FC'].mode()[0])\n",
    "df['Heart Disease']=df['Heart Disease'].fillna(df['Heart Disease'].mode()[0])\n",
    "df['Symptomatic hypertension']=df['Symptomatic hypertension'].fillna(df['Symptomatic hypertension'].mode()[0])\n",
    "df['Arrhythmia']=df['Arrhythmia'].fillna(df['Arrhythmia'].mode()[0])\n",
    "\n",
    "\n",
    "cols = pd.get_dummies(df['Hypertension'])\n",
    "df[cols.columns] = cols\n",
    "df.drop('Hypertension', axis = 1, inplace = True)\n",
    "\n",
    "cols = pd.get_dummies(df['FC'])\n",
    "df[cols.columns] = cols\n",
    "df.drop('FC', axis = 1, inplace = True)\n",
    "\n",
    "cols = pd.get_dummies(df['Heart Disease'])\n",
    "df[cols.columns] = cols\n",
    "df.drop('Heart Disease', axis = 1, inplace = True)\n",
    "\n",
    "cols = pd.get_dummies(df['Symptomatic hypertension'])\n",
    "df[cols.columns] = cols\n",
    "df.drop('Symptomatic hypertension', axis = 1, inplace = True)\n",
    "\n",
    "cols = pd.get_dummies(df['Arrhythmia'])\n",
    "df[cols.columns] = cols\n",
    "df.drop('Arrhythmia', axis = 1, inplace = True)\n",
    "\n",
    "cols = pd.get_dummies(df['Gender'])\n",
    "df[cols.columns] = cols\n",
    "df.drop('Gender', axis = 1, inplace = True)\n",
    "\n",
    "df_test = scaler.transform(df)\n"
   ]
  },
  {
   "cell_type": "markdown",
   "metadata": {},
   "source": [
    "# Best model"
   ]
  },
  {
   "cell_type": "code",
   "execution_count": 74,
   "metadata": {},
   "outputs": [
    {
     "name": "stdout",
     "output_type": "stream",
     "text": [
      "Train score: 0.9269\n",
      "Test score: 0.8937\n",
      "Train score: 0.8990\n",
      "Test score: 0.8953\n"
     ]
    }
   ],
   "source": [
    "#logistic regression with pasting\n",
    "#in dataset our desired output is binary since logistic regression is good at binary classification with pasting classifier has been optimzed\n",
    "\n",
    "bag_clf1 = BaggingClassifier(log_clf, n_estimators=500, max_samples=100, bootstrap=False, random_state=42)\n",
    "bag_clf1.fit(x_train, y_train)\n",
    "y_pred = bag_clf.predict(x_test)\n",
    "\n",
    "print('Train score: %.4f'%precision_score(y_train, bag_clf.predict(x_train), average = 'macro'))\n",
    "print('Test score: %.4f'%precision_score(y_test, bag_clf.predict(x_test), average = 'macro'))\n",
    "\n",
    "#support vector classifier \n",
    "#performed as good as logistic regression\n",
    "svc_linear = SVC(kernel = 'linear', C = 10, gamma = 0.1)\n",
    "svc_linear.fit(x_train, y_train)\n",
    "print('Train score: %.4f'%precision_score(y_train, svc_linear.predict(x_train), average = 'macro'))\n",
    "print('Test score: %.4f'%precision_score(y_test, svc_linear.predict(x_test), average = 'macro'))"
   ]
  },
  {
   "cell_type": "markdown",
   "metadata": {},
   "source": [
    "# test.csv prediction"
   ]
  },
  {
   "cell_type": "code",
   "execution_count": 79,
   "metadata": {},
   "outputs": [
    {
     "data": {
      "text/plain": [
       "array([0, 0, 0, 0, 0, 0, 0, 0, 0, 0, 0, 0, 0, 0, 0, 0, 0, 0, 0, 0, 0, 0,\n",
       "       0, 0, 0, 0, 0, 0, 0, 0, 0, 0, 0, 0, 0, 0, 0, 0, 0, 0, 0, 0, 0, 0,\n",
       "       0, 0, 0, 0, 0, 0, 0, 0, 0, 0, 0, 0, 0, 0, 0, 0, 0, 0, 0, 0, 0, 0,\n",
       "       0, 0, 0, 0, 0, 0, 0, 0, 0, 0, 0, 0, 0, 0, 0, 0, 0, 0, 0, 0, 0, 0,\n",
       "       0, 0, 0, 0, 0, 0, 0, 0, 0, 0, 0, 0, 0, 0, 0, 0, 0, 0, 0, 0, 0, 0,\n",
       "       0, 0, 0, 0, 0, 0, 0, 0, 0, 0, 0, 0, 0, 0, 0, 0, 0, 0, 0, 0, 0, 0,\n",
       "       0, 0, 0, 0, 0, 0, 0, 0, 1, 0, 0, 0, 0, 0, 0, 0, 0, 0, 0, 0, 0, 0,\n",
       "       0, 0, 0, 0, 0, 0, 0, 0, 0, 0, 0, 1, 0, 0, 0, 1, 0, 0, 0, 0, 0, 0,\n",
       "       0, 0, 0, 0, 0, 0, 0, 0, 0, 0, 0, 0, 0, 0, 0, 0, 0, 0, 0, 0, 0, 0,\n",
       "       0, 0, 0, 0, 0, 0, 0, 0, 0, 0, 0, 0, 0, 0, 0, 0, 0, 0, 0, 0, 0, 0,\n",
       "       0, 0, 0, 0, 0, 0, 0, 0, 0, 0, 0, 0, 0, 0, 0, 0, 0, 0, 0, 0, 0, 0,\n",
       "       0, 0, 0, 0, 0, 0, 0, 0, 0, 0, 0, 0, 0, 0, 0, 0, 0, 0, 0, 0, 0, 0,\n",
       "       0, 0, 0, 0, 0, 0, 0, 0, 0, 0, 0, 0, 0, 0, 0, 0, 0, 0, 0, 0, 0, 0,\n",
       "       0, 0, 0, 0, 0, 0, 0, 0, 0, 0, 0, 0, 0, 0, 0, 0, 0, 0, 0, 0, 0, 0,\n",
       "       0, 0, 0, 0, 0, 0, 0, 0, 0, 0, 0, 0, 0, 0, 0, 0, 0, 0, 0, 0, 0, 0,\n",
       "       0, 0, 0, 0, 1, 0, 0, 0, 0, 0, 0, 0, 0, 0, 0, 0, 0, 0, 0, 0, 0, 0,\n",
       "       0, 0, 0, 0, 0, 0, 0, 0, 0, 0, 0, 0, 0, 0, 0, 0, 0, 0, 0, 0, 1, 0,\n",
       "       0, 0, 0, 0, 0, 0, 0, 0, 0, 0, 0, 0, 0, 0, 0, 0, 0, 0, 0, 0, 0, 0,\n",
       "       0, 0, 0, 0, 0, 0, 0, 0, 0, 0, 0, 0, 0, 0, 0, 0, 0, 0, 0, 0, 0, 0,\n",
       "       0, 0, 0, 0, 0, 0, 0], dtype=int64)"
      ]
     },
     "execution_count": 79,
     "metadata": {},
     "output_type": "execute_result"
    }
   ],
   "source": [
    "final_test_prediction = svc_linear.predict(df_test)\n",
    "final_test_prediction"
   ]
  },
  {
   "cell_type": "code",
   "execution_count": null,
   "metadata": {},
   "outputs": [],
   "source": []
  }
 ],
 "metadata": {
  "kernelspec": {
   "display_name": "Python 3",
   "language": "python",
   "name": "python3"
  },
  "language_info": {
   "codemirror_mode": {
    "name": "ipython",
    "version": 3
   },
   "file_extension": ".py",
   "mimetype": "text/x-python",
   "name": "python",
   "nbconvert_exporter": "python",
   "pygments_lexer": "ipython3",
   "version": "3.8.8"
  }
 },
 "nbformat": 4,
 "nbformat_minor": 2
}
